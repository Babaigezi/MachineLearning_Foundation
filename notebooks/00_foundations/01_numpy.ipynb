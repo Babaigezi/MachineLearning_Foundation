{
 "cells": [
  {
   "cell_type": "markdown",
   "id": "d8c1c09e-1990-4193-9112-5e444cffce0e",
   "metadata": {},
   "source": [
    "NumPy\n",
    "NumPy is a Python library used for working with arrays.\n",
    "- It also has functions for working in domain of linear algebra, fourier transform, and matrices.\n",
    "- In Python we have lists that serve the purpose of arrays, but they are slow to process.\n",
    "- NumPy aims to provide an array object that is up to 50x faster than traditional Python lists."
   ]
  },
  {
   "cell_type": "code",
   "execution_count": null,
   "id": "c6fa821d-ddaf-420f-aa2a-0131f7db342b",
   "metadata": {},
   "outputs": [],
   "source": [
    "import numpy as np  # create a numpy array \n",
    "arr = np.array([1, 2, 3, 4, 5])\n",
    "\n",
    "print(type(arr))  #  return <class 'numpy.ndarray'>\n",
    "print(arr.dtype)  #  return int64,  get datatype of an array - the value the array is composed of\n",
    "\n",
    "np.sort(arr)  # sort the array\n",
    "np.mean(arr)  # find the mean of arrays\n",
    "np.arange(0,4)  # create an array of values 0 through 4，np.arange(start, stop, step)\n",
    "np.sqrt(arr)\n",
    "\n",
    "arr1 = arr * 10  # return [10,20,30,40,50]\n",
    "lst = [1, 2, 4, 4, 7] \n",
    "print(lst * 3)   # return [1, 2, 4, 4, 7,1, 2, 4, 4, 7,1, 2, 4, 4, 7]\n",
    "\n",
    "b = np.copy(a)\n",
    "np.empty(3)   # [0. 0. 0.] or random values\n",
    "np.zeros((2,2))   # [[0. 0.],[0. 0]]\n",
    "arr = np.array([1, 2, 3], dtype=float)   # array([1., 2., 3.])\n",
    "arr.astype(int)   # [1 2 3] Convert array to another data type.\n",
    "\n",
    "np.array_split(arr, n)  # Split array into n sub-arrays.\n",
    "np.concatenate(([1,2],[3,4]))  #  Join arrays together [1 2 3 4]\n",
    "np.repeat([1,2], 3)  # np.repeat(arr, n)Repeat each element n times.\n",
    "np.transpose([[1,2,3],[4,5,6]])  # [[1 4],[2 5],[3 6]]\n",
    "np.all([1,2,3])   # Check if all elements are True, return Ture \n",
    "np.any([0,0,5])   # Check if any elements are True, return Ture here\n",
    "np.nonzero([0,1,2]) # return the index(indices) of nonzero element, return [1,2] here\n"
   ]
  },
  {
   "cell_type": "code",
   "execution_count": null,
   "id": "7b3bffeb-77b9-4955-9e79-c4748f0ee1b3",
   "metadata": {},
   "outputs": [],
   "source": [
    "np.argmax(arr) # index of max\n",
    "np.argmin(arr) # index of min\n",
    "np.argsort(arr) # indices that would sort array\n",
    "np.max(arr) # max value\n",
    "np.min(arr) # min value\n",
    "np.sort(arr) # sorted array"
   ]
  },
  {
   "cell_type": "code",
   "execution_count": null,
   "id": "62056232-be4c-4059-84c9-46ce2f0aabe3",
   "metadata": {},
   "outputs": [],
   "source": [
    "# Operations\n",
    "np.choose(indices, choices) # Construct array from index list & choice arrays.\n",
    "ndarray.fill(val) # Fill entire array with a value.\n",
    "np.prod(arr) # Product of elements."
   ]
  },
  {
   "cell_type": "code",
   "execution_count": null,
   "id": "60eb7f70-357d-40c9-bed4-c8543975b13f",
   "metadata": {},
   "outputs": [],
   "source": [
    "# Basic Statistics\n",
    "np.cov(m) # covariance matrix\n",
    "np.mean(arr) # mean\n",
    "np.std(arr) # standard deviation\n",
    "np.var(arr) # variance"
   ]
  },
  {
   "cell_type": "code",
   "execution_count": null,
   "id": "5589dd6f-0867-43f9-a5a2-be554c55cbd8",
   "metadata": {},
   "outputs": [],
   "source": [
    "# Basic Linear Algebra\n",
    "np.cross(a,b) # cross product (3D vectors)\n",
    "np.dot(a,b) # dot product\n",
    "np.outer(a,b) # outer product"
   ]
  }
 ],
 "metadata": {
  "kernelspec": {
   "display_name": "Python [conda env:dsua-111]",
   "language": "python",
   "name": "conda-env-dsua-111-py"
  },
  "language_info": {
   "codemirror_mode": {
    "name": "ipython",
    "version": 3
   },
   "file_extension": ".py",
   "mimetype": "text/x-python",
   "name": "python",
   "nbconvert_exporter": "python",
   "pygments_lexer": "ipython3",
   "version": "3.7.6"
  }
 },
 "nbformat": 4,
 "nbformat_minor": 5
}
