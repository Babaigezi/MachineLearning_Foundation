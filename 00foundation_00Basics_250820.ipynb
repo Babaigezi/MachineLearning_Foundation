{
 "cells": [
  {
   "cell_type": "markdown",
   "id": "4fd5bdfb-ee69-4bdd-8675-f8e3bb05d9ee",
   "metadata": {},
   "source": [
    "Print"
   ]
  },
  {
   "cell_type": "code",
   "execution_count": 2,
   "id": "f0d5a4a4-5507-4367-bc5c-88444314be10",
   "metadata": {},
   "outputs": [
    {
     "name": "stdout",
     "output_type": "stream",
     "text": [
      "HelloWorld\n"
     ]
    }
   ],
   "source": [
    "# Print\n",
    "a=\"HelloWorld\"\n",
    "print(a)"
   ]
  },
  {
   "cell_type": "markdown",
   "id": "51e9d7c8-2d41-44cb-913b-7209669dda5a",
   "metadata": {},
   "source": [
    "Naming Variables\n",
    "- Camel Case - myVariableName\n",
    "- Pascal Case - MyVariableName\n",
    "- Snake Case - my_variable_name"
   ]
  },
  {
   "cell_type": "markdown",
   "id": "2f2d8b24-40a8-458e-aa38-d7c39be22cd7",
   "metadata": {},
   "source": [
    "Data types: These are some of the most common data types you'll run into.\n",
    "- Text Type:   `str`\n",
    "- Numeric Types:   `int`, `float`\n",
    "- Sequence Types:   `list`, `tuple`\n",
    "- Mapping Type:   `dict`\n",
    "- Set Types:   `set`\n",
    "- Boolean Type: `bool`"
   ]
  },
  {
   "cell_type": "code",
   "execution_count": 3,
   "id": "fe39a3e7-23e4-4e51-b07b-ed135c2ab531",
   "metadata": {},
   "outputs": [
    {
     "data": {
      "text/plain": [
       "str"
      ]
     },
     "execution_count": 3,
     "metadata": {},
     "output_type": "execute_result"
    }
   ],
   "source": [
    "#  Find Type\n",
    "type(a)"
   ]
  },
  {
   "cell_type": "markdown",
   "id": "a4cbe45f-2949-4b8e-9c45-80794b23fafc",
   "metadata": {},
   "source": [
    "Booleans and Logical Operators"
   ]
  },
  {
   "cell_type": "code",
   "execution_count": null,
   "id": "f618955f-b58c-439c-bc86-ed994b8291a2",
   "metadata": {},
   "outputs": [],
   "source": [
    "# Booleans and Logical Operators\n",
    "t, f = True, False\n",
    "print(type(t))\n",
    "print(type(f))\n",
    "print(t and f) # Logical AND; - (a,b) both true -> true\n",
    "print(t or f)  # Logical OR; - (a,b) one true -> true\n",
    "print(not t)   # Logical NOT; - inverts what t is -> t was true, so not t = false \n",
    "print(t != f)  # Logical XOR;  -> a doesn't equal b, so returns true "
   ]
  },
  {
   "cell_type": "markdown",
   "id": "d9ca56a8-3556-4464-b583-2845e34c7233",
   "metadata": {},
   "source": [
    "Lists:\n",
    "- Lists are used to store multiple items in a single variable\n",
    "- List items are ordered, changeable, and allow duplicate values.\n",
    "- List items are indexed, the first item has index [0], the second item has index [1] etc.\n",
    "- List items can be of any data type.\n",
    "- Lists can contain different data types."
   ]
  },
  {
   "cell_type": "code",
   "execution_count": null,
   "id": "808819ff-c47f-4b7c-80a1-c973807e0620",
   "metadata": {},
   "outputs": [],
   "source": [
    "# Create a List\n",
    "mylist = []\n",
    "mylist = [10,20,30]\n",
    "mylist[0] # print 10\n",
    "\n",
    "len(mylist) # find the length of mylist\n",
    "max(mylist)\n",
    "min(mylist)\n",
    "\n",
    "mylist.append(50) \n",
    "del mylist[4]  # delete the item with index 4 (5th item) -- base on index\n",
    "mylist.remove(50)  #delete the item with value 50 -- base on value\n",
    "mylist[0:2]  # mylist[index1 : index2]  give a new list which from index1 to index2, index2 not inluce"
   ]
  },
  {
   "cell_type": "markdown",
   "id": "9d81d396-9926-4579-be59-6b18bd8997e2",
   "metadata": {},
   "source": [
    "Dictionaries\n",
    "- Dictionaries are used to store data values in key:value pairs.\n",
    "- Dictionary items are ordered, mutable, and do not allow duplicate keys.\n",
    "- Keys are unique and immutable types (e.g., string, number, tuple),\n",
    "  while values can be of any type.\n",
    "- Dictionary items are accessed via keys, not by numeric index.\n",
    "- A dictionary can contain values of different data types."
   ]
  },
  {
   "cell_type": "code",
   "execution_count": null,
   "id": "04fb0692-dcc4-4bb4-9a81-1c1fb98e6b86",
   "metadata": {},
   "outputs": [],
   "source": [
    "# Create a Dictionary in 'key' : 'value' pair\n",
    "car = {\n",
    "  \"brand\": \"Ford\",\n",
    "  \"model\": \"Mustang\",\n",
    "  \"year\": 1964\n",
    "}\n",
    "\n",
    "car['year']  # dic['key'] return value of this key\n",
    "car.keys()  # dic.keys() return all keys in a list\n",
    "car.values()  # dic.values() return all values in a list\n",
    "car['year'] = 2022  #  change value, update new value\n",
    "car[\"Trim\"] = \"raptor\" #  add a new element\n"
   ]
  },
  {
   "cell_type": "markdown",
   "id": "b70ab99c-b2fe-4510-93b0-9782a70bc012",
   "metadata": {},
   "source": [
    "If- Else Statment"
   ]
  },
  {
   "cell_type": "code",
   "execution_count": null,
   "id": "58f9f89b-d1a0-4f2c-946d-ff7d19719d92",
   "metadata": {},
   "outputs": [],
   "source": [
    "#  If- Else \n",
    "a = 2\n",
    "if a == 2:\n",
    "    print(\"Hello.\") # first line\n",
    "else:\n",
    "    print(\"Goodbye.\") # second line "
   ]
  },
  {
   "cell_type": "markdown",
   "id": "0ba610e1-cf15-4fe6-ae35-342c091362fc",
   "metadata": {},
   "source": [
    "Iteration, For Loop and While Loop"
   ]
  },
  {
   "cell_type": "code",
   "execution_count": null,
   "id": "6a128ede-af8b-4acf-bf5a-fa195ee40143",
   "metadata": {},
   "outputs": [],
   "source": [
    "# iteration\n",
    "nums = [10, 20, 30]\n",
    "it = iter(nums)\n",
    "print(next(it))  # 10\n",
    "print(next(it))  # 20\n",
    "print(next(it))  # 30\n",
    "\n",
    "# for loop\n",
    "for i in range(5): # for i in range(len(mylist))\n",
    "    print(i)\n",
    "    # i += 1\n",
    "\n",
    "for n in nums:\n",
    "    print(n)\n",
    "\n",
    "# while loop\n",
    "x = 0\n",
    "while x < 3:\n",
    "    print(nums[x])\n",
    "    x += 1"
   ]
  },
  {
   "cell_type": "markdown",
   "id": "d70df0dd-3c9e-4c6b-9b1f-0ee5298a096b",
   "metadata": {},
   "source": [
    "Create a new Function"
   ]
  },
  {
   "cell_type": "code",
   "execution_count": null,
   "id": "d2febe48-ac0e-4e24-8c46-0f3382bd06dc",
   "metadata": {},
   "outputs": [],
   "source": [
    "# We want this function to print every string in a list.\n",
    "# 'list_string' is the function name. 'list1' is the parameter name (this is just a placeholder name). - what the function will take in \n",
    "# You can have more than one parameter for your function.\n",
    "\n",
    "def list_string(list1):\n",
    "    temp = []\n",
    "    for i in list1:\n",
    "        if type(i) == str:\n",
    "            print(i)\n",
    "            temp.append(i)\n",
    "    return temp"
   ]
  }
 ],
 "metadata": {
  "kernelspec": {
   "display_name": "Python [conda env:dsua-111]",
   "language": "python",
   "name": "conda-env-dsua-111-py"
  },
  "language_info": {
   "codemirror_mode": {
    "name": "ipython",
    "version": 3
   },
   "file_extension": ".py",
   "mimetype": "text/x-python",
   "name": "python",
   "nbconvert_exporter": "python",
   "pygments_lexer": "ipython3",
   "version": "3.7.6"
  }
 },
 "nbformat": 4,
 "nbformat_minor": 5
}
